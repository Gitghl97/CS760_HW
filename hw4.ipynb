{
 "cells": [
  {
   "cell_type": "code",
   "execution_count": 1,
   "id": "387bf146",
   "metadata": {},
   "outputs": [
    {
     "data": {
      "text/plain": [
       "{'a': 0.0601685114819098,\n",
       " 'b': 0.011134974392863043,\n",
       " 'c': 0.021509995043779945,\n",
       " 'd': 0.021972575582355856,\n",
       " 'e': 0.1053692383941847,\n",
       " 'f': 0.018932760614571286,\n",
       " 'g': 0.017478936064761277,\n",
       " 'h': 0.047216256401784236,\n",
       " 'i': 0.055410540227986124,\n",
       " 'j': 0.001420783082768875,\n",
       " 'k': 0.0037336857756484387,\n",
       " 'l': 0.028977366595076822,\n",
       " 'm': 0.020518751032545846,\n",
       " 'n': 0.057921691723112505,\n",
       " 'o': 0.06446390219725756,\n",
       " 'p': 0.01675202378985627,\n",
       " 'q': 0.0005617049396993227,\n",
       " 'r': 0.053824549810011564,\n",
       " 's': 0.06618205848339666,\n",
       " 't': 0.08012555757475633,\n",
       " 'u': 0.026664463902197257,\n",
       " 'v': 0.009284652238559392,\n",
       " 'w': 0.015496448042293078,\n",
       " 'x': 0.001156451346439782,\n",
       " 'y': 0.013844374690236246,\n",
       " 'z': 0.0006277878737815959,\n",
       " ' ': 0.1792499586981662}"
      ]
     },
     "execution_count": 1,
     "metadata": {},
     "output_type": "execute_result"
    }
   ],
   "source": [
    "# 3.2\n",
    "import os\n",
    "\n",
    "def count(directory='/Users/gaohuilong/Desktop/HW4/languageID'):\n",
    "    character_count_dict = {character: 0 for character in \"abcdefghijklmnopqrstuvwxyz \"}\n",
    "    total_characters = 0\n",
    "    \n",
    "    for i in range(10):\n",
    "        file_name = f\"e{i}.txt\"\n",
    "        file_path = os.path.join(directory, file_name)\n",
    "        with open(file_path, \"r\") as f:\n",
    "            txt = f.read()\n",
    "            \n",
    "            for character in txt:\n",
    "                if character in character_count_dict:\n",
    "                    character_count_dict[character] += 1\n",
    "                    total_characters += 1\n",
    "    return character_count_dict, total_characters\n",
    "\n",
    "def theta_calculation(character_count_dict, total_characters, smoothing_para=0.5):\n",
    "    probabilities = {}\n",
    "    for character, count in character_count_dict.items():\n",
    "        probabilities[character] = (count + smoothing_para) / (total_characters + len(character_count_dict) * smoothing_para)\n",
    "    return probabilities\n",
    "character_count_dict, total_characters = count()\n",
    "result_e = theta_calculation(character_count_dict, total_characters)\n",
    "result_e"
   ]
  },
  {
   "cell_type": "code",
   "execution_count": 2,
   "id": "51e49f37",
   "metadata": {},
   "outputs": [
    {
     "data": {
      "text/plain": [
       "{'a': 0.1317656102589189,\n",
       " 'b': 0.010866906600510151,\n",
       " 'c': 0.005485866033054963,\n",
       " 'd': 0.01722631818022992,\n",
       " 'e': 0.06020475907613823,\n",
       " 'f': 0.003878542227191726,\n",
       " 'g': 0.014011670568503443,\n",
       " 'h': 0.03176211607673224,\n",
       " 'i': 0.09703343932352633,\n",
       " 'j': 0.0023411020650616725,\n",
       " 'k': 0.05740941332681086,\n",
       " 'l': 0.001432614696530277,\n",
       " 'm': 0.03979873510604843,\n",
       " 'n': 0.05671057688947902,\n",
       " 'o': 0.09116321324993885,\n",
       " 'p': 0.0008735455466648031,\n",
       " 'q': 0.00010482546559977637,\n",
       " 'r': 0.04280373178657535,\n",
       " 's': 0.0421747789929767,\n",
       " 't': 0.056990111464411755,\n",
       " 'u': 0.07061742199238269,\n",
       " 'v': 0.0002445927530661449,\n",
       " 'w': 0.01974212935462455,\n",
       " 'x': 3.4941821866592126e-05,\n",
       " 'y': 0.01415143785596981,\n",
       " 'z': 0.00772214263251686,\n",
       " ' ': 0.12344945665466997}"
      ]
     },
     "execution_count": 2,
     "metadata": {},
     "output_type": "execute_result"
    }
   ],
   "source": [
    "# 3.3 Japanese\n",
    "import os\n",
    "\n",
    "def count(directory='/Users/gaohuilong/Desktop/HW4/languageID'):\n",
    "    character_count_dict = {character: 0 for character in \"abcdefghijklmnopqrstuvwxyz \"}\n",
    "    total_characters = 0\n",
    "    \n",
    "    for i in range(10):\n",
    "        file_name = f\"j{i}.txt\"\n",
    "        file_path = os.path.join(directory, file_name)\n",
    "        with open(file_path, \"r\") as f:\n",
    "            txt = f.read()\n",
    "            \n",
    "            for character in txt:\n",
    "                if character in character_count_dict:\n",
    "                    character_count_dict[character] += 1\n",
    "                    total_characters += 1\n",
    "    return character_count_dict, total_characters\n",
    "\n",
    "def theta_calculation(character_count_dict, total_characters, smoothing_para=0.5):\n",
    "    probabilities = {}\n",
    "    for character, count in character_count_dict.items():\n",
    "        probabilities[character] = (count + smoothing_para) / (total_characters + len(character_count_dict) * smoothing_para)\n",
    "    return probabilities\n",
    "character_count_dict, total_characters = count()\n",
    "result_j = theta_calculation(character_count_dict, total_characters)\n",
    "result_j"
   ]
  },
  {
   "cell_type": "code",
   "execution_count": 3,
   "id": "5b08a1e2",
   "metadata": {},
   "outputs": [
    {
     "data": {
      "text/plain": [
       "{'a': 0.10456045141993771,\n",
       " 'b': 0.008232863618143134,\n",
       " 'c': 0.03752582405722919,\n",
       " 'd': 0.039745922111559924,\n",
       " 'e': 0.1138108599796491,\n",
       " 'f': 0.00860287996053159,\n",
       " 'g': 0.0071844839813758445,\n",
       " 'h': 0.0045327001942585795,\n",
       " 'i': 0.049859702136844375,\n",
       " 'j': 0.006629459467793161,\n",
       " 'k': 0.0002775122567913416,\n",
       " 'l': 0.052943171656748174,\n",
       " 'm': 0.02580863988159477,\n",
       " 'n': 0.054176559464709693,\n",
       " 'o': 0.07249236841293824,\n",
       " 'p': 0.02426690512164287,\n",
       " 'q': 0.007677839104560451,\n",
       " 'r': 0.05929511886774999,\n",
       " 's': 0.06577040485954797,\n",
       " 't': 0.03561407295488884,\n",
       " 'u': 0.03370232185254849,\n",
       " 'v': 0.00588942678301625,\n",
       " 'w': 9.250408559711388e-05,\n",
       " 'x': 0.0024976103111220747,\n",
       " 'y': 0.007862847275754679,\n",
       " 'z': 0.0026826184823163022,\n",
       " ' ': 0.16826493170115014}"
      ]
     },
     "execution_count": 3,
     "metadata": {},
     "output_type": "execute_result"
    }
   ],
   "source": [
    "# 3.3 Spanish\n",
    "import os\n",
    "\n",
    "def count(directory='/Users/gaohuilong/Desktop/HW4/languageID'):\n",
    "    character_count_dict = {character: 0 for character in \"abcdefghijklmnopqrstuvwxyz \"}\n",
    "    total_characters = 0\n",
    "    \n",
    "    for i in range(10):\n",
    "        file_name = f\"s{i}.txt\"\n",
    "        file_path = os.path.join(directory, file_name)\n",
    "        with open(file_path, \"r\") as f:\n",
    "            txt = f.read()\n",
    "            \n",
    "            for character in txt:\n",
    "                if character in character_count_dict:\n",
    "                    character_count_dict[character] += 1\n",
    "                    total_characters += 1\n",
    "    return character_count_dict, total_characters\n",
    "\n",
    "def theta_calculation(character_count_dict, total_characters, smoothing_para=0.5):\n",
    "    probabilities = {}\n",
    "    for character, count in character_count_dict.items():\n",
    "        probabilities[character] = (count + smoothing_para) / (total_characters + len(character_count_dict) * smoothing_para)\n",
    "    return probabilities\n",
    "character_count_dict, total_characters = count()\n",
    "result_s = theta_calculation(character_count_dict, total_characters)\n",
    "result_s"
   ]
  },
  {
   "cell_type": "code",
   "execution_count": 4,
   "id": "7340d7a7",
   "metadata": {},
   "outputs": [
    {
     "data": {
      "text/plain": [
       "{'a': 164,\n",
       " 'b': 32,\n",
       " 'c': 53,\n",
       " 'd': 57,\n",
       " 'e': 311,\n",
       " 'f': 55,\n",
       " 'g': 51,\n",
       " 'h': 140,\n",
       " 'i': 140,\n",
       " 'j': 3,\n",
       " 'k': 6,\n",
       " 'l': 85,\n",
       " 'm': 64,\n",
       " 'n': 139,\n",
       " 'o': 182,\n",
       " 'p': 53,\n",
       " 'q': 3,\n",
       " 'r': 141,\n",
       " 's': 186,\n",
       " 't': 225,\n",
       " 'u': 65,\n",
       " 'v': 31,\n",
       " 'w': 47,\n",
       " 'x': 4,\n",
       " 'y': 38,\n",
       " 'z': 2,\n",
       " ' ': 498}"
      ]
     },
     "execution_count": 4,
     "metadata": {},
     "output_type": "execute_result"
    }
   ],
   "source": [
    "# 3.4\n",
    "def bag_of_words(path='/Users/gaohuilong/Desktop/HW4/languageID/e10.txt'):\n",
    "    character_count_dict = {character: 0 for character in \"abcdefghijklmnopqrstuvwxyz \"}\n",
    "    with open(path, \"r\") as f:\n",
    "        txt = f.read()\n",
    "        for character in txt:\n",
    "            if character in character_count_dict:\n",
    "                character_count_dict[character] +=1\n",
    "    return character_count_dict\n",
    "bag_of_words()\n",
    "    "
   ]
  },
  {
   "cell_type": "code",
   "execution_count": 5,
   "id": "1812b56b",
   "metadata": {},
   "outputs": [
    {
     "name": "stdout",
     "output_type": "stream",
     "text": [
      "-7841.865447060635\n",
      "-8771.433079075032\n",
      "-8467.282044010557\n"
     ]
    }
   ],
   "source": [
    "# 3.5\n",
    "import math \n",
    "def log_likehood(bags, probabilities):\n",
    "    log_probability = 0\n",
    "    for character, count in bags.items():\n",
    "        if character in probabilities:\n",
    "            probability = probabilities[character]\n",
    "        else:\n",
    "            probability = 1e-8\n",
    "        log_probability += count*math.log(probability)\n",
    "    return log_probability\n",
    "log_likehood_e = log_likehood(bag_of_words(),result_e)\n",
    "log_likehood_j = log_likehood(bag_of_words(),result_j)\n",
    "log_likehood_s = log_likehood(bag_of_words(),result_s)\n",
    "print(log_likehood_e)\n",
    "print(log_likehood_j)\n",
    "print(log_likehood_s)"
   ]
  },
  {
   "cell_type": "code",
   "execution_count": 6,
   "id": "36011946",
   "metadata": {},
   "outputs": [
    {
     "data": {
      "text/plain": [
       "{'e': {'e': 10, 'j': 0, 's': 0},\n",
       " 'j': {'e': 0, 'j': 10, 's': 0},\n",
       " 's': {'e': 0, 'j': 0, 's': 10}}"
      ]
     },
     "execution_count": 6,
     "metadata": {},
     "output_type": "execute_result"
    }
   ],
   "source": [
    "# 3.7\n",
    "confusion_matrix = {\"e\":{\"e\": 0, \"j\":0, \"s\":0},\n",
    "                   \"j\":{\"e\": 0, \"j\":0, \"s\":0},\n",
    "                   \"s\":{\"e\": 0, \"j\":0, \"s\":0}};\n",
    "for language in ['e','j','s']:\n",
    "    for i in range(10,20):\n",
    "        path = f\"/Users/gaohuilong/Desktop/HW4/languageID/{language}{i}.txt\"\n",
    "        bags = bag_of_words(path)\n",
    "        log_likehood_e = log_likehood(bags, result_e)\n",
    "        log_likehood_j = log_likehood(bags, result_j)\n",
    "        log_likehood_s = log_likehood(bags, result_s)\n",
    "        if log_likehood_e > log_likehood_j and log_likehood_e > log_likehood_s:\n",
    "            predicted_language = \"e\"\n",
    "        elif log_likehood_j > log_likehood_e and log_likehood_e > log_likehood_s:\n",
    "            predicted_language = \"j\"\n",
    "        else:\n",
    "            predicted_language = \"s\"\n",
    "        confusion_matrix[language][predicted_language]+=1\n",
    "confusion_matrix"
   ]
  },
  {
   "cell_type": "code",
   "execution_count": 7,
   "id": "d4780937",
   "metadata": {},
   "outputs": [
    {
     "name": "stdout",
     "output_type": "stream",
     "text": [
      "Epoch 1, Loss: 0.2943\n",
      "Epoch 2, Loss: 0.2758\n",
      "Epoch 3, Loss: 0.0819\n",
      "Epoch 4, Loss: 0.2253\n",
      "Epoch 5, Loss: 0.3652\n",
      "Epoch 6, Loss: 0.1636\n",
      "Epoch 7, Loss: 0.2562\n",
      "Epoch 8, Loss: 0.3669\n",
      "Accuracy: 91.90%\n"
     ]
    },
    {
     "data": {
      "image/png": "[encoded data removed]",
      "text/plain": [
       "<Figure size 432x288 with 1 Axes>"
      ]
     },
     "metadata": {
      "needs_background": "light"
     },
     "output_type": "display_data"
    }
   ],
   "source": [
    "# 4.2\n",
    "# This is code is with the help from the ChatGPT\n",
    "import numpy as np\n",
    "import torch\n",
    "from torchvision import datasets, transforms\n",
    "import matplotlib.pyplot as plt\n",
    "transform = transforms.Compose([transforms.ToTensor(), transforms.Normalize((0.5,), (0.5,))])\n",
    "train_dataset = datasets.MNIST(root='./data', train=True, transform=transform, download=True)\n",
    "train_loader = torch.utils.data.DataLoader(dataset=train_dataset, batch_size=64, shuffle=True)\n",
    "test_dataset = datasets.MNIST(root='./data', train=False, transform=transform)\n",
    "test_loader = torch.utils.data.DataLoader(dataset=test_dataset, batch_size=64, shuffle=False)\n",
    "\n",
    "W = torch.randn(28*28, 10) / np.sqrt(28*28)\n",
    "b = torch.zeros(10)\n",
    "\n",
    "def forward(X):\n",
    "    return X @ W + b\n",
    "\n",
    "def cross_entropy(y_pred, y_true):\n",
    "    y_pred = torch.exp(y_pred)\n",
    "    y_pred /= y_pred.sum(dim=1, keepdim=True)\n",
    "    return -torch.log(y_pred[range(len(y_pred)), y_true]).mean()\n",
    "\n",
    "def backward(X, y_pred, y_true):\n",
    "    y_pred = torch.exp(y_pred)\n",
    "    y_pred /= y_pred.sum(dim=1, keepdim=True)\n",
    "    y_pred[range(len(y_pred)), y_true] -= 1\n",
    "    y_pred /= len(y_pred)\n",
    "    \n",
    "    dW = X.T @ y_pred\n",
    "    db = y_pred.sum(dim=0)\n",
    "    return dW, db\n",
    "def sgd_step(learning_rate):\n",
    "    global W, b\n",
    "    dW, db = grads\n",
    "    W -= learning_rate * dW\n",
    "    b -= learning_rate * db\n",
    "\n",
    "learning_rate = 0.05\n",
    "epochs = 8\n",
    "losses = []\n",
    "\n",
    "for epoch in range(epochs):\n",
    "    for batch_X, batch_y in train_loader:\n",
    "        batch_X = batch_X.view(-1, 28*28)\n",
    "        y_pred = forward(batch_X)\n",
    "        loss = cross_entropy(y_pred, batch_y)\n",
    "        grads = backward(batch_X, y_pred, batch_y)\n",
    "        sgd_step(learning_rate)\n",
    "    losses.append(loss.item())\n",
    "    print(f\"Epoch {epoch+1}, Loss: {loss.item():.4f}\")\n",
    "\n",
    "correct = 0\n",
    "total = 0\n",
    "for batch_X, batch_y in test_loader:\n",
    "    batch_X = batch_X.view(-1, 28*28)\n",
    "    y_pred = forward(batch_X)\n",
    "    _, predictions = torch.max(y_pred, 1)\n",
    "    correct += (predictions == batch_y).sum().item()\n",
    "    total += batch_y.size(0)\n",
    "print(f\"Accuracy: {100 * correct / total:.2f}%\")\n",
    "\n",
    "plt.plot(losses)\n",
    "plt.xlabel('Epochs')\n",
    "plt.ylabel('Loss')\n",
    "plt.title('Learning Curve')\n",
    "plt.show()\n"
   ]
  },
  {
   "cell_type": "code",
   "execution_count": 8,
   "id": "122cf9fd",
   "metadata": {},
   "outputs": [
    {
     "name": "stdout",
     "output_type": "stream",
     "text": [
      "Epoch 1, Loss: 0.2459\n",
      "Epoch 2, Loss: 0.3850\n",
      "Epoch 3, Loss: 0.3416\n",
      "Epoch 4, Loss: 0.2286\n",
      "Epoch 5, Loss: 0.2524\n",
      "Epoch 6, Loss: 0.4925\n",
      "Epoch 7, Loss: 0.6600\n",
      "Epoch 8, Loss: 0.2920\n",
      "Accuracy: 91.96%\n"
     ]
    },
    {
     "data": {
      "image/png": "[encoded data removed]",
      "text/plain": [
       "<Figure size 432x288 with 1 Axes>"
      ]
     },
     "metadata": {
      "needs_background": "light"
     },
     "output_type": "display_data"
    }
   ],
   "source": [
    "#4.3\n",
    "# This is code is with the help from the ChatGPT\n",
    "import torch\n",
    "import torch.nn as nn\n",
    "import torch.optim as optim\n",
    "from torchvision import datasets, transforms\n",
    "import matplotlib.pyplot as plt\n",
    "\n",
    "transform = transforms.Compose([transforms.ToTensor(), transforms.Normalize((0.5,), (0.5,))])\n",
    "train_dataset = datasets.MNIST(root='./data', train=True, transform=transform, download=True)\n",
    "train_loader = torch.utils.data.DataLoader(dataset=train_dataset, batch_size=64, shuffle=True)\n",
    "test_dataset = datasets.MNIST(root='./data', train=False, transform=transform)\n",
    "test_loader = torch.utils.data.DataLoader(dataset=test_dataset, batch_size=64, shuffle=False)\n",
    "\n",
    "class SimpleNN(nn.Module):\n",
    "    def __init__(self):\n",
    "        super(SimpleNN, self).__init__()\n",
    "        self.fc = nn.Linear(28 * 28, 10)\n",
    "    \n",
    "    def forward(self, x):\n",
    "        return self.fc(x)\n",
    "\n",
    "model = SimpleNN()\n",
    "\n",
    "criterion = nn.CrossEntropyLoss()\n",
    "\n",
    "optimizer = optim.SGD(model.parameters(), lr=0.05)\n",
    "\n",
    "epochs = 8\n",
    "losses = []\n",
    "\n",
    "for epoch in range(epochs):\n",
    "    for batch_X, batch_y in train_loader:\n",
    "        batch_X = batch_X.view(-1, 28*28)\n",
    "        optimizer.zero_grad()\n",
    "        y_pred = model(batch_X)\n",
    "        loss = criterion(y_pred, batch_y)\n",
    "        loss.backward()\n",
    "        optimizer.step()\n",
    "    losses.append(loss.item())\n",
    "    print(f\"Epoch {epoch+1}, Loss: {loss.item():.4f}\")\n",
    "\n",
    "correct = 0\n",
    "total = 0\n",
    "with torch.no_grad():\n",
    "    for batch_X, batch_y in test_loader:\n",
    "        batch_X = batch_X.view(-1, 28*28)\n",
    "        y_pred = model(batch_X)\n",
    "        _, predictions = torch.max(y_pred, 1)\n",
    "        correct += (predictions == batch_y).sum().item()\n",
    "        total += batch_y.size(0)\n",
    "print(f\"Accuracy: {100 * correct / total:.2f}%\")\n",
    "\n",
    "plt.plot(losses)\n",
    "plt.xlabel('Epochs')\n",
    "plt.ylabel('Loss')\n",
    "plt.title('Learning Curve')\n",
    "plt.show()\n"
   ]
  },
  {
   "cell_type": "code",
   "execution_count": null,
   "id": "b688686a",
   "metadata": {},
   "outputs": [],
   "source": []
  },
  {
   "cell_type": "code",
   "execution_count": null,
   "id": "0c54888a",
   "metadata": {},
   "outputs": [],
   "source": []
  }
 ],
 "metadata": {
  "kernelspec": {
   "display_name": "Python 3 (ipykernel)",
   "language": "python",
   "name": "python3"
  },
  "language_info": {
   "codemirror_mode": {
    "name": "ipython",
    "version": 3
   },
   "file_extension": ".py",
   "mimetype": "text/x-python",
   "name": "python",
   "nbconvert_exporter": "python",
   "pygments_lexer": "ipython3",
   "version": "3.9.12"
  }
 },
 "nbformat": 4,
 "nbformat_minor": 5
}
